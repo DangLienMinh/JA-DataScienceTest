{
 "cells": [
  {
   "cell_type": "markdown",
   "metadata": {},
   "source": [
    "## GENERAL QUESTION"
   ]
  },
  {
   "cell_type": "markdown",
   "metadata": {},
   "source": [
    "1. Write a simple program to implement selection sort"
   ]
  },
  {
   "cell_type": "code",
   "execution_count": null,
   "metadata": {},
   "outputs": [],
   "source": [
    "arr = [1,5,3,7,9,2]\n",
    "print(\"Array befor sorting:\")\n",
    "for i in range(len(arr)):\n",
    "    print(arr[i])\n",
    "    \n",
    "# Selection sort \n",
    "for i in range(len(arr)):\n",
    "    idx = i \n",
    "    for j in range(i+1, len(arr)):\n",
    "        if (arr[j] < arr[idx]):\n",
    "            idx = j\n",
    "    temp = arr[i]\n",
    "    arr[i] = arr[idx]\n",
    "    arr[idx] = temp\n",
    "    \n",
    "print(\"Arry after sorting:\")\n",
    "for i in range(len(arr)):\n",
    "    print(arr[i])\n"
   ]
  },
  {
   "cell_type": "markdown",
   "metadata": {},
   "source": [
    "2. Given a function rand5() that returns a random int between 0 and 5, implement rand7()"
   ]
  },
  {
   "cell_type": "markdown",
   "metadata": {},
   "source": [
    "Explain: if we have a function could print out a random number in range 0 to 21, we could generate a random number from 0 to 7 by taking the number to modulo division by 7. \n",
    "- We could generate a random number from 0 to 30 by the following expression:\n",
    "    ```\n",
    "    5*rand5() + rand5()\n",
    "    ```\n",
    "- If generated random number is less than 22, it could transform to a random number from 0 to 7 by taking modulo division by 7\n",
    "- Otherwise, keep generate random number until it is less than 22"
   ]
  },
  {
   "cell_type": "code",
   "execution_count": 78,
   "metadata": {},
   "outputs": [
    {
     "name": "stdout",
     "output_type": "stream",
     "text": [
      "0\n"
     ]
    }
   ],
   "source": [
    "import numpy as np\n",
    "def rand5():\n",
    "    return np.random.randint(6)\n",
    "\n",
    "def rand7():\n",
    "    i = 5*rand5() + rand5()\n",
    "    if (i < 22):\n",
    "        return i%7 \n",
    "    else:\n",
    "        return rand7()\n",
    "print(rand7())"
   ]
  },
  {
   "cell_type": "markdown",
   "metadata": {},
   "source": [
    "3. Write a function that sorts a stack (bonus: sort the stack in place without extra memory)"
   ]
  },
  {
   "cell_type": "code",
   "execution_count": 1,
   "metadata": {},
   "outputs": [
    {
     "name": "stdout",
     "output_type": "stream",
     "text": [
      "1\n",
      "3\n",
      "4\n",
      "5\n"
     ]
    }
   ],
   "source": [
    "def createStack():\n",
    "    stack = [] \n",
    "    return stack\n",
    "\n",
    "def isEmpty(stack):\n",
    "    return len(stack) == 0 \n",
    "\n",
    "def top(stack):\n",
    "    return stack[-1]\n",
    "\n",
    "def pop(stack):\n",
    "    p = stack.pop()\n",
    "    return p \n",
    "\n",
    "def push(stack,e):\n",
    "    stack.append(e)\n",
    "\n",
    "def print_stack(stack):\n",
    "    for p in stack:\n",
    "        print(p)\n",
    "        \n",
    "# Sort stack function here\n",
    "def sortStack(stack):\n",
    "    tmpStack = createStack()\n",
    "    push(tmpStack,pop(stack))\n",
    "    while (isEmpty(stack) == False):\n",
    "        p = pop(stack)\n",
    "        while (isEmpty(tmpStack) ==False and top(tmpStack) >p):\n",
    "            push(stack,pop(tmpStack))\n",
    "        push(tmpStack,p)\n",
    "    return tmpStack\n",
    "    \n",
    "\n",
    "\n",
    "if __name__ =='__main__':\n",
    "    a = createStack()\n",
    "    push(a,3)\n",
    "    push(a,5)\n",
    "    push(a,1)\n",
    "    push(a,4)\n",
    "    a = sortStack(a)\n",
    "    print_stack(a)"
   ]
  },
  {
   "cell_type": "markdown",
   "metadata": {},
   "source": [
    "4. Implement a linked list (with insert and delete functions)"
   ]
  },
  {
   "cell_type": "code",
   "execution_count": 7,
   "metadata": {},
   "outputs": [
    {
     "name": "stdout",
     "output_type": "stream",
     "text": [
      "Print linked list:\n",
      "1\n",
      "2\n",
      "3\n",
      "4\n",
      "5\n",
      "Delete 1\n",
      "2\n",
      "3\n",
      "4\n",
      "5\n",
      "Delete 3\n",
      "2\n",
      "4\n",
      "5\n",
      "Delete 5\n",
      "2\n",
      "4\n"
     ]
    }
   ],
   "source": [
    "class Node(object):\n",
    "    def __init__(self,x):\n",
    "        self.val = x\n",
    "        self.next = None\n",
    "class LinkedList(object):\n",
    "    def __init__(self,head = None):\n",
    "        self.head = head\n",
    "    def print_self(self):\n",
    "        if self.head is not None:\n",
    "            current = self.head\n",
    "            while current is not None:\n",
    "                print(current.val)\n",
    "                current = current.next \n",
    "    def insert(self, x):\n",
    "        newItem = Node(x)\n",
    "        if self.head is None:\n",
    "            self.head = newItem\n",
    "        else:\n",
    "            current = self.head \n",
    "            while(current.next is not None):\n",
    "                current = current.next \n",
    "            current.next = newItem \n",
    "    def delete(self,x):\n",
    "        \"\"\" \n",
    "        Delete first item x in LinkedList, if found return 0, if not found return -1\n",
    "        \"\"\"\n",
    "        if self.head is None:\n",
    "            return -1\n",
    "        else:\n",
    "            if self.head.val == x:\n",
    "                self.head = self.head.next\n",
    "                return 0\n",
    "            else:\n",
    "                current = self.head\n",
    "                while current.next is not None:\n",
    "                    if current.next.val == x:\n",
    "                        current.next= current.next.next\n",
    "                        return 0\n",
    "                    else:\n",
    "                        current = current.next\n",
    "                return -1\n",
    "a = LinkedList()\n",
    "a.insert(1)\n",
    "a.insert(2)\n",
    "a.insert(3)\n",
    "a.insert(4)\n",
    "a.insert(5)\n",
    "print(\"Print linked list:\")\n",
    "a.print_self()\n",
    "print(\"Delete 1\")\n",
    "a.delete(1)\n",
    "a.print_self()\n",
    "print(\"Delete 3\")\n",
    "a.delete(3)\n",
    "a.print_self()\n",
    "print(\"Delete 5\")\n",
    "a.delete(5)\n",
    "a.print_self()\n",
    "      \n",
    "    "
   ]
  },
  {
   "cell_type": "markdown",
   "metadata": {},
   "source": [
    "5. Give examples of data cleaning techniques you have used in the past."
   ]
  },
  {
   "cell_type": "markdown",
   "metadata": {},
   "source": [
    "There are many data cleaning techniques we could use to clean and make the data more useful:"
   ]
  },
  {
   "cell_type": "markdown",
   "metadata": {},
   "source": [
    "    - Encoding categorical feature\n",
    "Features that are not continuous value are encoded to integer codes. For ex, [\"January\",\"Febuary\",\"March\",...,\"December\"] could be transformed to [0,1,2,..,11]. In another example, we often use one-hot encoding to transform a label in machine learning model. \n",
    "    - Standarlization\n",
    "Transform the feature to center by removing the mean value and scake it by standard deviation.\n",
    "$$\n",
    "     Z = (x-muy)/std \n",
    "$$\n",
    "with x is feature, muy is the mean value and std is the standard deviation of the distribution. \n",
    "    - Normalization in range 0 - 1:\n",
    "Data feature could be also transformed to the range of 0-1.\n",
    "                $$Z = (x-min(x))/(max(x)-min(x))$$"
   ]
  },
  {
   "cell_type": "markdown",
   "metadata": {},
   "source": [
    "6. Could you please provide details about precision and recall in a machine learning context with an example?"
   ]
  },
  {
   "cell_type": "markdown",
   "metadata": {},
   "source": [
    "In the biniray classification, we have two classes which one of these should be considered more \"seriously\" than the other and need to be classified correctly. For example, in the problem of detection cancer, the probability of predicting missing cancer cases is more important that predicting a pattient who is healty has cancer. In another example, we should reduce the case of classifying wrongly important email to spam email more than predicting a spam email to a important email. In such of example, we define the important class as Positive class and the other classes as the Negative class. "
   ]
  },
  {
   "cell_type": "markdown",
   "metadata": {},
   "source": [
    "Let take an example of predicting a pattent having a cancer or not. We define class \"Having cancer\" is Positive and \"No cancer\" is Negative. The confusion matrix is a table defining the number of prediting and actual number in two class. \n",
    "- True Positive: The number of people who have cancer and model predicts cancer\n",
    "- True Negative: The number of people who have no cancer and model predicts no cancer \n",
    "- False Positive: The number of people who have no cancer and model predicts cancer \n",
    "- False Negative: The number of people who have cancer and model predicts no cancer \n",
    "Ideally, we want the high number of True Positive and low number of False Negative.\n"
   ]
  },
  {
   "cell_type": "raw",
   "metadata": {},
   "source": [
    "                  |      Predicted      |      Predicted      |\n",
    "                  |     as Positive     |     as Negative     |\n",
    "------------------|---------------------|---------------------|\n",
    " Actual: Positive | True Positive (TP)  | False Negative (FN) |\n",
    "------------------|---------------------|---------------------|\n",
    " Actual: Negative | False Positive (FP) | True Negative (TN)  |\n",
    "------------------|---------------------|---------------------|"
   ]
  },
  {
   "cell_type": "markdown",
   "metadata": {},
   "source": [
    "We define\n",
    "    - Precision: the proportion number of True Positive in all number of True Positve + False Positive. \n",
    "    In this case, precision measures the proportion of patients predicted cancer that actually had cancer among those people model predicts cancer.\n",
    "                                   Precision = TP/(TP+FP)\n",
    "    - Recall: the proportion number of True Positive in all number of True Positive + False Negative \n",
    "    In this case, recall measures the proportion of patients predicted cancer that acutally had cancer among those people that have cancer (including who model predict no cancer).\n",
    "                                    Recall = TP/(TP+FN)\n",
    "High precision means the accuracy of predicted classes is high. High recall means we reduce the missing of true positive class."
   ]
  },
  {
   "cell_type": "markdown",
   "metadata": {},
   "source": [
    "7. If the CEO of a company asks you what model ‘Lift’ is, how would you explain it to him?"
   ]
  }
 ],
 "metadata": {
  "kernelspec": {
   "display_name": "Python 3",
   "language": "python",
   "name": "python3"
  },
  "language_info": {
   "codemirror_mode": {
    "name": "ipython",
    "version": 3
   },
   "file_extension": ".py",
   "mimetype": "text/x-python",
   "name": "python",
   "nbconvert_exporter": "python",
   "pygments_lexer": "ipython3",
   "version": "3.6.6"
  }
 },
 "nbformat": 4,
 "nbformat_minor": 2
}
